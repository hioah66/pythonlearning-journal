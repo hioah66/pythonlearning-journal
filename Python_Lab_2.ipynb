{
  "nbformat": 4,
  "nbformat_minor": 0,
  "metadata": {
    "colab": {
      "provenance": []
    },
    "kernelspec": {
      "name": "python3",
      "display_name": "Python 3"
    },
    "language_info": {
      "name": "python"
    }
  },
  "cells": [
    {
      "cell_type": "code",
      "execution_count": null,
      "metadata": {
        "colab": {
          "base_uri": "https://localhost:8080/"
        },
        "id": "dyDK6tW9BSjB",
        "outputId": "20ee82b4-dc76-40f2-f106-a22f5f7f3c9c"
      },
      "outputs": [
        {
          "output_type": "stream",
          "name": "stdout",
          "text": [
            "enter a distance in kilometers8\n",
            "4.970968\n"
          ]
        }
      ],
      "source": [
        "kilometer= input(\"enter a distance in kilometers\")\n",
        "miles= float(kilometer) * 0.621371\n",
        "print(miles)\n"
      ]
    },
    {
      "cell_type": "code",
      "source": [
        "celsius= input(\"enter a value in celsius\")\n",
        "fehrenheit= (float(celsius) * 1.8) + 32\n",
        "print(fehrenheit)"
      ],
      "metadata": {
        "colab": {
          "base_uri": "https://localhost:8080/"
        },
        "id": "7K96RlD-iHUI",
        "outputId": "00a5ddff-781c-4f4f-ec08-e82bb933b197"
      },
      "execution_count": null,
      "outputs": [
        {
          "output_type": "stream",
          "name": "stdout",
          "text": [
            "enter a value in celsius5.8\n",
            "42.44\n"
          ]
        }
      ]
    },
    {
      "cell_type": "code",
      "source": [
        "binary= 101101000\n",
        "decimal= (0 * 2**0) + (0 * 2**1) + (0 * 2**2) + (1 * 2**3) + (0 * 2**4) + (1 * 2**5) + (1 * 2**6) + (0 * 2**7) + (1 * 2**8)\n",
        "print (decimal)"
      ],
      "metadata": {
        "colab": {
          "base_uri": "https://localhost:8080/"
        },
        "id": "f8hFIDP2trc-",
        "outputId": "aa026a3e-a8f9-4052-8a59-d6e22b3faeec"
      },
      "execution_count": 3,
      "outputs": [
        {
          "output_type": "stream",
          "name": "stdout",
          "text": [
            "360\n"
          ]
        }
      ]
    },
    {
      "cell_type": "code",
      "source": [],
      "metadata": {
        "id": "8vcsaXEUvWwL"
      },
      "execution_count": null,
      "outputs": []
    }
  ]
}